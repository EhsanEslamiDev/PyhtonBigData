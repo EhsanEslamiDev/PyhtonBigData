{
 "cells": [
  {
   "cell_type": "markdown",
   "metadata": {},
   "source": [
    "# Python Big Data Fundamentals\n",
    "*From Krish Naik's Big Data Course*\n",
    "\n",
    "## Overview\n",
    "This notebook provides an interactive introduction to Python libraries essential for big data processing.\n",
    "\n",
    "### Topics Covered:\n",
    "1. NumPy for numerical computing\n",
    "2. Pandas for data manipulation\n",
    "3. Memory optimization techniques\n",
    "4. Performance comparison between libraries"
   ]
  },
  {
   "cell_type": "code",
   "execution_count": null,
   "metadata": {},
   "outputs": [],
   "source": [
    "# Import required libraries\n",
    "import numpy as np\n",
    "import pandas as pd\n",
    "import matplotlib.pyplot as plt\n",
    "import time\n",
    "import sys\n",
    "\n",
    "# Display versions\n",
    "print(f\"NumPy version: {np.__version__}\")\n",
    "print(f\"Pandas version: {pd.__version__}\")"
   ]
  },
  {
   "cell_type": "markdown",
   "metadata": {},
   "source": [
    "## 1. NumPy Fundamentals"
   ]
  },
  {
   "cell_type": "code",
   "execution_count": null,
   "metadata": {},
   "outputs": [],
   "source": [
    "# Create sample data\n",
    "data_size = 1000000\n",
    "\n",
    "# NumPy array creation\n",
    "np_array = np.random.random(data_size)\n",
    "print(f\"NumPy array shape: {np_array.shape}\")\n",
    "print(f\"Memory usage: {np_array.nbytes / 1024**2:.2f} MB\")\n",
    "\n",
    "# Basic statistics\n",
    "print(f\"Mean: {np.mean(np_array):.4f}\")\n",
    "print(f\"Standard deviation: {np.std(np_array):.4f}\")\n",
    "print(f\"Min: {np.min(np_array):.4f}\")\n",
    "print(f\"Max: {np.max(np_array):.4f}\")"
   ]
  },
  {
   "cell_type": "markdown",
   "metadata": {},
   "source": [
    "## 2. Performance Comparison: NumPy vs Pure Python"
   ]
  },
  {
   "cell_type": "code",
   "execution_count": null,
   "metadata": {},
   "outputs": [],
   "source": [
    "# Performance comparison\n",
    "size = 100000\n",
    "\n",
    "# Pure Python\n",
    "python_list = list(range(size))\n",
    "start_time = time.time()\n",
    "python_result = sum([x**2 for x in python_list])\n",
    "python_time = time.time() - start_time\n",
    "\n",
    "# NumPy\n",
    "numpy_array = np.arange(size)\n",
    "start_time = time.time()\n",
    "numpy_result = np.sum(numpy_array**2)\n",
    "numpy_time = time.time() - start_time\n",
    "\n",
    "print(f\"Pure Python time: {python_time:.4f} seconds\")\n",
    "print(f\"NumPy time: {numpy_time:.4f} seconds\")\n",
    "print(f\"NumPy is {python_time/numpy_time:.1f}x faster\")\n",
    "\n",
    "# Visualization\n",
    "methods = ['Python', 'NumPy']\n",
    "times = [python_time, numpy_time]\n",
    "\n",
    "plt.figure(figsize=(8, 5))\n",
    "plt.bar(methods, times, color=['red', 'blue'])\n",
    "plt.title('Performance Comparison: Python vs NumPy')\n",
    "plt.ylabel('Time (seconds)')\n",
    "plt.show()"
   ]
  },
  {
   "cell_type": "markdown",
   "metadata": {},
   "source": [
    "## 3. Pandas DataFrame Operations"
   ]
  },
  {
   "cell_type": "code",
   "execution_count": null,
   "metadata": {},
   "outputs": [],
   "source": [
    "# Create sample dataset\n",
    "np.random.seed(42)\n",
    "n_rows = 10000\n",
    "\n",
    "data = {\n",
    "    'employee_id': range(1, n_rows + 1),\n",
    "    'name': [f'Employee_{i}' for i in range(1, n_rows + 1)],\n",
    "    'department': np.random.choice(['IT', 'HR', 'Finance', 'Marketing', 'Operations'], n_rows),\n",
    "    'salary': np.random.normal(75000, 15000, n_rows),\n",
    "    'age': np.random.randint(22, 65, n_rows),\n",
    "    'years_experience': np.random.randint(0, 40, n_rows)\n",
    "}\n",
    "\n",
    "df = pd.DataFrame(data)\n",
    "df['salary'] = df['salary'].round(2)\n",
    "\n",
    "print(f\"Dataset shape: {df.shape}\")\n",
    "print(f\"Memory usage: {df.memory_usage(deep=True).sum() / 1024**2:.2f} MB\")\n",
    "df.head()"
   ]
  },
  {
   "cell_type": "code",
   "execution_count": null,
   "metadata": {},
   "outputs": [],
   "source": [
    "# Data analysis\n",
    "print(\"Basic statistics:\")\n",
    "print(df.describe())\n",
    "\n",
    "print(\"\\nDepartment distribution:\")\n",
    "print(df['department'].value_counts())"
   ]
  },
  {
   "cell_type": "code",
   "execution_count": null,
   "metadata": {},
   "outputs": [],
   "source": [
    "# Groupby operations\n",
    "dept_analysis = df.groupby('department').agg({\n",
    "    'salary': ['mean', 'median', 'std'],\n",
    "    'age': 'mean',\n",
    "    'years_experience': 'mean',\n",
    "    'employee_id': 'count'\n",
    "}).round(2)\n",
    "\n",
    "dept_analysis.columns = ['avg_salary', 'median_salary', 'salary_std', 'avg_age', 'avg_experience', 'count']\n",
    "print(\"Department Analysis:\")\n",
    "print(dept_analysis)"
   ]
  },
  {
   "cell_type": "markdown",
   "metadata": {},
   "source": [
    "## 4. Data Visualization"
   ]
  },
  {
   "cell_type": "code",
   "execution_count": null,
   "metadata": {},
   "outputs": [],
   "source": [
    "# Salary distribution by department\n",
    "plt.figure(figsize=(12, 8))\n",
    "\n",
    "# Subplot 1: Salary distribution\n",
    "plt.subplot(2, 2, 1)\n",
    "df['salary'].hist(bins=50, alpha=0.7)\n",
    "plt.title('Salary Distribution')\n",
    "plt.xlabel('Salary')\n",
    "plt.ylabel('Frequency')\n",
    "\n",
    "# Subplot 2: Department counts\n",
    "plt.subplot(2, 2, 2)\n",
    "df['department'].value_counts().plot(kind='bar')\n",
    "plt.title('Employees by Department')\n",
    "plt.xlabel('Department')\n",
    "plt.ylabel('Count')\n",
    "plt.xticks(rotation=45)\n",
    "\n",
    "# Subplot 3: Age vs Salary scatter plot\n",
    "plt.subplot(2, 2, 3)\n",
    "plt.scatter(df['age'], df['salary'], alpha=0.5)\n",
    "plt.title('Age vs Salary')\n",
    "plt.xlabel('Age')\n",
    "plt.ylabel('Salary')\n",
    "\n",
    "# Subplot 4: Average salary by department\n",
    "plt.subplot(2, 2, 4)\n",
    "dept_salary = df.groupby('department')['salary'].mean().sort_values(ascending=False)\n",
    "dept_salary.plot(kind='bar')\n",
    "plt.title('Average Salary by Department')\n",
    "plt.xlabel('Department')\n",
    "plt.ylabel('Average Salary')\n",
    "plt.xticks(rotation=45)\n",
    "\n",
    "plt.tight_layout()\n",
    "plt.show()"
   ]
  },
  {
   "cell_type": "markdown",
   "metadata": {},
   "source": [
    "## 5. Memory Optimization Techniques"
   ]
  },
  {
   "cell_type": "code",
   "execution_count": null,
   "metadata": {},
   "outputs": [],
   "source": [
    "# Memory optimization\n",
    "print(\"Original DataFrame memory usage:\")\n",
    "print(df.memory_usage(deep=True))\n",
    "print(f\"Total: {df.memory_usage(deep=True).sum() / 1024**2:.2f} MB\")\n",
    "\n",
    "# Optimize data types\n",
    "df_optimized = df.copy()\n",
    "\n",
    "# Convert department to category\n",
    "df_optimized['department'] = df_optimized['department'].astype('category')\n",
    "\n",
    "# Downcast integers\n",
    "df_optimized['employee_id'] = pd.to_numeric(df_optimized['employee_id'], downcast='integer')\n",
    "df_optimized['age'] = pd.to_numeric(df_optimized['age'], downcast='integer')\n",
    "df_optimized['years_experience'] = pd.to_numeric(df_optimized['years_experience'], downcast='integer')\n",
    "\n",
    "# Downcast floats\n",
    "df_optimized['salary'] = pd.to_numeric(df_optimized['salary'], downcast='float')\n",
    "\n",
    "print(\"\\nOptimized DataFrame memory usage:\")\n",
    "print(df_optimized.memory_usage(deep=True))\n",
    "print(f\"Total: {df_optimized.memory_usage(deep=True).sum() / 1024**2:.2f} MB\")\n",
    "\n",
    "memory_saved = df.memory_usage(deep=True).sum() - df_optimized.memory_usage(deep=True).sum()\n",
    "print(f\"\\nMemory saved: {memory_saved / 1024**2:.2f} MB\")\n",
    "print(f\"Reduction: {memory_saved / df.memory_usage(deep=True).sum() * 100:.1f}%\")"
   ]
  },
  {
   "cell_type": "markdown",
   "metadata": {},
   "source": [
    "## 6. Practice Exercises\n",
    "\n",
    "### Exercise 1: Data Filtering\n",
    "Find all employees who:\n",
    "- Are older than 40\n",
    "- Have more than 10 years of experience\n",
    "- Earn more than the median salary"
   ]
  },
  {
   "cell_type": "code",
   "execution_count": null,
   "metadata": {},
   "outputs": [],
   "source": [
    "# Your solution here\n",
    "median_salary = df['salary'].median()\n",
    "\n",
    "experienced_high_earners = df[\n",
    "    (df['age'] > 40) & \n",
    "    (df['years_experience'] > 10) & \n",
    "    (df['salary'] > median_salary)\n",
    "]\n",
    "\n",
    "print(f\"Found {len(experienced_high_earners)} experienced high earners\")\n",
    "print(f\"Average salary: ${experienced_high_earners['salary'].mean():.2f}\")\n",
    "experienced_high_earners.head()"
   ]
  },
  {
   "cell_type": "markdown",
   "metadata": {},
   "source": [
    "### Exercise 2: Data Aggregation\n",
    "Calculate the correlation between years of experience and salary for each department."
   ]
  },
  {
   "cell_type": "code",
   "execution_count": null,
   "metadata": {},
   "outputs": [],
   "source": [
    "# Your solution here\n",
    "correlations = df.groupby('department').apply(\n",
    "    lambda x: x['years_experience'].corr(x['salary'])\n",
    ")\n",
    "\n",
    "print(\"Correlation between experience and salary by department:\")\n",
    "for dept, corr in correlations.items():\n",
    "    print(f\"{dept}: {corr:.3f}\")"
   ]
  },
  {
   "cell_type": "markdown",
   "metadata": {},
   "source": [
    "## Summary\n",
    "\n",
    "In this notebook, we've covered:\n",
    "1. **NumPy fundamentals** for efficient numerical computing\n",
    "2. **Performance benefits** of vectorized operations\n",
    "3. **Pandas DataFrame** operations for data manipulation\n",
    "4. **Data visualization** techniques\n",
    "5. **Memory optimization** strategies\n",
    "6. **Practical exercises** for hands-on learning\n",
    "\n",
    "These skills form the foundation for working with big data in Python!"
   ]
  }
 ],
 "metadata": {
  "kernelspec": {
   "display_name": "Python 3",
   "language": "python",
   "name": "python3"
  },
  "language_info": {
   "codemirror_mode": {
    "name": "ipython",
    "version": 3
   },
   "file_extension": ".py",
   "mimetype": "text/x-python",
   "name": "python",
   "nbconvert_exporter": "python",
   "pygments_lexer": "ipython3",
   "version": "3.8.5"
  }
 },
 "nbformat": 4,
 "nbformat_minor": 4
}