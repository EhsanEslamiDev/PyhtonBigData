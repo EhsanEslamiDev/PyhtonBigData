{
 "cells": [
  {
   "cell_type": "markdown",
   "metadata": {},
   "source": [
    "# Module: Classes and Objects Assignments\n",
    "## Lesson: Creating and Working with Classes and Objects\n"
   ]
  },
  {
   "cell_type": "markdown",
   "id": "cf85ee7e",
   "metadata": {},
   "source": [
    "### Assignment 1: Basic Class and Object Creation\n",
    "\n",
    "Create a class named `Car` with attributes `make`, `model`, and `year`. Create an object of the class and print its attributes.\n"
   ]
  },
  {
   "cell_type": "code",
   "execution_count": 1,
   "id": "cb4bb374",
   "metadata": {},
   "outputs": [],
   "source": [
    "class Car():\n",
    "    def __init__(self, make: str, model: str, year: int):\n",
    "        self.make = make\n",
    "        self.model = model\n",
    "        self.year = year    "
   ]
  },
  {
   "cell_type": "code",
   "execution_count": 2,
   "id": "8ea027c1",
   "metadata": {},
   "outputs": [
    {
     "name": "stdout",
     "output_type": "stream",
     "text": [
      "name: Fiat, model: 500, year: 2010\n"
     ]
    }
   ],
   "source": [
    "fiat = Car(\"Fiat\", \"500\", \"2010\")\n",
    "\n",
    "print(f\"name: {fiat.make}, model: {fiat.model}, year: {fiat.year}\")"
   ]
  },
  {
   "cell_type": "markdown",
   "id": "1542623d",
   "metadata": {},
   "source": [
    "### Assignment 2: Methods in Class\n",
    "\n",
    "Add a method named `start_engine` to the `Car` class that prints a message when the engine starts. Create an object of the class and call the method.\n"
   ]
  },
  {
   "cell_type": "code",
   "execution_count": 4,
   "id": "5b30a587",
   "metadata": {},
   "outputs": [],
   "source": [
    "class Car():\n",
    "    def __init__(self, make: str, model: str, year: int):\n",
    "        self.make = make\n",
    "        self.model = model\n",
    "        self.year = year    \n",
    "    \n",
    "    def strat_engine(self):\n",
    "        print(f\"{self.make} {self.model} engine started\")"
   ]
  },
  {
   "cell_type": "code",
   "execution_count": 6,
   "id": "2c7d7078",
   "metadata": {},
   "outputs": [
    {
     "name": "stdout",
     "output_type": "stream",
     "text": [
      "Audi A4 engine started\n"
     ]
    }
   ],
   "source": [
    "audi = Car(\"Audi\", \"A4\", \"2020\")\n",
    "audi.strat_engine()"
   ]
  },
  {
   "cell_type": "markdown",
   "id": "7dd018ed",
   "metadata": {},
   "source": [
    "\n",
    "\n",
    "### Assignment 3: Class with Constructor\n",
    "\n",
    "Create a class named `Student` with attributes `name` and `age`. Use a constructor to initialize these attributes. Create an object of the class and print its attributes.\n"
   ]
  },
  {
   "cell_type": "markdown",
   "id": "e98c9dcc",
   "metadata": {},
   "source": [
    "\n",
    "\n",
    "### Assignment 4: Class with Private Attributes\n",
    "\n",
    "Create a class named `BankAccount` with private attributes `account_number` and `balance`. Add methods to deposit and withdraw money, and to check the balance. Create an object of the class and perform some operations.\n"
   ]
  },
  {
   "cell_type": "code",
   "execution_count": 15,
   "id": "3612601a",
   "metadata": {},
   "outputs": [],
   "source": [
    "class BankAccount():\n",
    "\n",
    "    def __init__(self, account_number: int, balance: float, currency: str = \"dollars\"):\n",
    "\n",
    "        self.account_number = account_number\n",
    "        self.balance = balance\n",
    "        self.currency = currency\n",
    "    \n",
    "    def deposit(self, amount: float):\n",
    "\n",
    "        self.balance += amount\n",
    "        print(f\"Deposited {amount}. New balance is {self.balance} {self.currency}\")\n",
    "\n",
    "    def withdraw(self, amount: float):\n",
    "\n",
    "        if amount > self.balance:\n",
    "            print(\"Insufficient funds\")\n",
    "        \n",
    "        else:\n",
    "            self.balance -= amount\n",
    "            print(f\"Withdrew {amount}. New balance is {self.balance} {self.currency}\")\n",
    "    \n",
    "    def check_balance(self):\n",
    "\n",
    "        print(f\"The current balance is {self.balance} {self.currency}\")\n"
   ]
  },
  {
   "cell_type": "code",
   "execution_count": 16,
   "id": "28be5764",
   "metadata": {},
   "outputs": [
    {
     "name": "stdout",
     "output_type": "stream",
     "text": [
      "The current balance is 1000.0 Euros\n"
     ]
    }
   ],
   "source": [
    "account1 = BankAccount(123456, balance = 1000.0, currency = \"Euros\")\n",
    "\n",
    "account1.check_balance()"
   ]
  },
  {
   "cell_type": "code",
   "execution_count": 17,
   "id": "8a54012c",
   "metadata": {},
   "outputs": [
    {
     "name": "stdout",
     "output_type": "stream",
     "text": [
      "Deposited 500. New balance is 1500.0 Euros\n"
     ]
    }
   ],
   "source": [
    "account1.deposit(500)"
   ]
  },
  {
   "cell_type": "code",
   "execution_count": 18,
   "id": "9ac2eb12",
   "metadata": {},
   "outputs": [
    {
     "name": "stdout",
     "output_type": "stream",
     "text": [
      "Insufficient funds\n"
     ]
    }
   ],
   "source": [
    "account1.withdraw(2500)"
   ]
  },
  {
   "cell_type": "markdown",
   "id": "71f35242",
   "metadata": {},
   "source": [
    "\n",
    "### Assignment 5: Class Inheritance\n",
    "\n",
    "Create a base class named `Person` with attributes `name` and `age`. Create a derived class named `Employee` that inherits from `Person` and adds an attribute `employee_id`. Create an object of the derived class and print its attributes.\n"
   ]
  },
  {
   "cell_type": "code",
   "execution_count": 19,
   "id": "e582c691",
   "metadata": {},
   "outputs": [],
   "source": [
    "class Person():\n",
    "\n",
    "    def __init__(self, name: str, age: int):\n",
    "\n",
    "        self.name = name\n",
    "        self.age = age\n",
    "\n",
    "class Employee(Person):\n",
    "\n",
    "    def __init__(self, name, age, employee_id: int):\n",
    "\n",
    "        Person.__init__(self, name, age)\n",
    "        self.employee_id = employee_id"
   ]
  },
  {
   "cell_type": "code",
   "execution_count": 20,
   "id": "4d75b683",
   "metadata": {},
   "outputs": [
    {
     "name": "stdout",
     "output_type": "stream",
     "text": [
      "Employee Name: Ehsan, Age: 28, Employee ID: 1234\n"
     ]
    }
   ],
   "source": [
    "emp1 = Employee(\"Ehsan\", 28, 1234)\n",
    "\n",
    "print(f\"Employee Name: {emp1.name}, Age: {emp1.age}, Employee ID: {emp1.employee_id}\")"
   ]
  },
  {
   "cell_type": "markdown",
   "id": "508bae24",
   "metadata": {},
   "source": [
    "\n",
    "### Assignment 6: Method Overriding\n",
    "\n",
    "In the `Employee` class, override the `__str__` method to return a string representation of the object. Create an object of the class and print it.\n",
    "\n",
    "### Assignment 7: Class Composition\n",
    "\n",
    "Create a class named `Address` with attributes `street`, `city`, and `zipcode`. Create a class named `Person` that has an `Address` object as an attribute. Create an object of the `Person` class and print its address.\n",
    "\n",
    "### Assignment 8: Class with Class Variables\n",
    "\n",
    "Create a class named `Counter` with a class variable `count`. Each time an object is created, increment the count. Add a method to get the current count. Create multiple objects and print the count.\n",
    "\n",
    "### Assignment 9: Static Methods\n",
    "\n",
    "Create a class named `MathOperations` with a static method to calculate the square root of a number. Call the static method without creating an object.\n",
    "\n",
    "### Assignment 10: Class with Properties\n",
    "\n",
    "Create a class named `Rectangle` with private attributes `length` and `width`. Use properties to get and set these attributes. Create an object of the class and test the properties.\n",
    "\n",
    "### Assignment 11: Abstract Base Class\n",
    "\n",
    "Create an abstract base class named `Shape` with an abstract method `area`. Create derived classes `Circle` and `Square` that implement the `area` method. Create objects of the derived classes and call the `area` method.\n",
    "\n",
    "### Assignment 12: Operator Overloading\n",
    "\n",
    "Create a class named `Vector` with attributes `x` and `y`. Overload the `+` operator to add two `Vector` objects. Create objects of the class and test the operator overloading.\n",
    "\n",
    "### Assignment 13: Class with Custom Exception\n",
    "\n",
    "Create a custom exception named `InsufficientBalanceError`. In the `BankAccount` class, raise this exception when a withdrawal amount is greater than the balance. Handle the exception and print an appropriate message.\n",
    "\n",
    "### Assignment 14: Class with Context Manager\n",
    "\n",
    "Create a class named `FileManager` that implements the context manager protocol to open and close a file. Use this class to read the contents of a file.\n",
    "\n",
    "### Assignment 15: Chaining Methods\n",
    "\n",
    "Create a class named `Calculator` with methods to add, subtract, multiply, and divide. Each method should return the object itself to allow method chaining. Create an object and chain multiple method calls."
   ]
  },
  {
   "cell_type": "code",
   "execution_count": null,
   "metadata": {},
   "outputs": [],
   "source": []
  }
 ],
 "metadata": {
  "kernelspec": {
   "display_name": "pbd (3.11.0)",
   "language": "python",
   "name": "python3"
  },
  "language_info": {
   "codemirror_mode": {
    "name": "ipython",
    "version": 3
   },
   "file_extension": ".py",
   "mimetype": "text/x-python",
   "name": "python",
   "nbconvert_exporter": "python",
   "pygments_lexer": "ipython3",
   "version": "3.11.0rc1"
  }
 },
 "nbformat": 4,
 "nbformat_minor": 5
}
