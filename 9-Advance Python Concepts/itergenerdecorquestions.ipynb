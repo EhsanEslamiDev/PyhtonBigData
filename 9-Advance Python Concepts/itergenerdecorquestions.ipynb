{
 "cells": [
  {
   "cell_type": "markdown",
   "metadata": {},
   "source": [
    "# Module: Iterators, Generators, and Decorators Assignments\n",
    "## Lesson: Iterators, Generators, and Decorators\n"
   ]
  },
  {
   "cell_type": "markdown",
   "id": "55c00b9a",
   "metadata": {},
   "source": [
    "### Assignment 1: Custom Iterator\n",
    "\n",
    "Create a custom iterator class named `Countdown` that takes a number and counts down to zero. Implement the `__iter__` and `__next__` methods. Test the iterator by using it in a for loop.\n"
   ]
  },
  {
   "cell_type": "code",
   "execution_count": 25,
   "id": "1516e25c",
   "metadata": {},
   "outputs": [
    {
     "name": "stdout",
     "output_type": "stream",
     "text": [
      "5\n",
      "4\n",
      "3\n",
      "2\n",
      "1\n",
      "0\n"
     ]
    }
   ],
   "source": [
    "class Countdown:\n",
    "    \n",
    "    def __init__(self, start):\n",
    "        self.current = start\n",
    "\n",
    "    def __iter__(self):\n",
    "        return self\n",
    "\n",
    "    def __next__(self):\n",
    "        if self.current < 0:\n",
    "            raise StopIteration\n",
    "        value = self.current\n",
    "        self.current -= 1\n",
    "        return value\n",
    "\n",
    "# Test the Countdown iterator\n",
    "for num in Countdown(5):\n",
    "    print(num)"
   ]
  },
  {
   "cell_type": "code",
   "execution_count": 12,
   "id": "696c0a79",
   "metadata": {},
   "outputs": [],
   "source": [
    "iterator = iter([i for i in range(int(input(\"Enter a number:\")),-1,  -1)])"
   ]
  },
  {
   "cell_type": "code",
   "execution_count": 20,
   "id": "813b7e26",
   "metadata": {},
   "outputs": [
    {
     "name": "stdout",
     "output_type": "stream",
     "text": [
      "No more elements in the iterator.\n"
     ]
    }
   ],
   "source": [
    "try:\n",
    "    next(iterator)\n",
    "except StopIteration:\n",
    "    print(\"No more elements in the iterator.\")"
   ]
  },
  {
   "cell_type": "markdown",
   "id": "0fd8e944",
   "metadata": {},
   "source": [
    "\n",
    "### Assignment 2: Custom Iterable Class\n",
    "\n",
    "Create a class named `MyRange` that mimics the behavior of the built-in `range` function. Implement the `__iter__` and `__next__` methods. Test the class by using it in a for loop.\n"
   ]
  },
  {
   "cell_type": "code",
   "execution_count": 28,
   "id": "e514cbc3",
   "metadata": {},
   "outputs": [],
   "source": [
    "class MyRange:\n",
    "\n",
    "    def __init__(self, end, start=0):\n",
    "\n",
    "        self.current = start\n",
    "        self.end = end\n",
    "\n",
    "    def __iter__(self):\n",
    "        return self\n",
    "    \n",
    "    def __next__(self):\n",
    "\n",
    "        if self.current >= self.end:\n",
    "            raise StopIteration\n",
    "        \n",
    "        value = self.current\n",
    "        self.current += 1 \n",
    "\n",
    "        return value\n"
   ]
  },
  {
   "cell_type": "code",
   "execution_count": 29,
   "id": "305f29c4",
   "metadata": {},
   "outputs": [
    {
     "name": "stdout",
     "output_type": "stream",
     "text": [
      "0\n",
      "1\n",
      "2\n"
     ]
    }
   ],
   "source": [
    "for number in MyRange(3):\n",
    "    print(number)"
   ]
  },
  {
   "cell_type": "markdown",
   "id": "9fb51323",
   "metadata": {},
   "source": [
    "\n",
    "### Assignment 3: Generator Function\n",
    "\n",
    "Write a generator function named `fibonacci` that yields the Fibonacci sequence. Test the generator by iterating over it and printing the first 10 Fibonacci numbers.\n"
   ]
  },
  {
   "cell_type": "code",
   "execution_count": 30,
   "id": "faa40512",
   "metadata": {},
   "outputs": [],
   "source": [
    "def fibonacci(n):\n",
    "    \n",
    "    a, b = 0, 1\n",
    "\n",
    "    for _ in range(n):\n",
    "\n",
    "        yield a\n",
    "        a, b = b, a + b"
   ]
  },
  {
   "cell_type": "code",
   "execution_count": 33,
   "id": "d4f35a85",
   "metadata": {},
   "outputs": [
    {
     "name": "stdout",
     "output_type": "stream",
     "text": [
      "0\n",
      "1\n",
      "1\n",
      "2\n",
      "3\n",
      "5\n",
      "8\n",
      "13\n",
      "21\n",
      "34\n"
     ]
    }
   ],
   "source": [
    "for x in fibonacci(10):\n",
    "    print(x)"
   ]
  },
  {
   "cell_type": "markdown",
   "id": "b065b6bf",
   "metadata": {},
   "source": [
    "\n",
    "### Assignment 4: Generator Expression\n",
    "\n",
    "Create a generator expression that generates the squares of numbers from 1 to 10. Iterate over the generator and print each value.\n"
   ]
  },
  {
   "cell_type": "code",
   "execution_count": 34,
   "id": "90108dbf",
   "metadata": {},
   "outputs": [],
   "source": [
    "def square(n): \n",
    "\n",
    "    for i in range(n):\n",
    "\n",
    "        yield i*i"
   ]
  },
  {
   "cell_type": "code",
   "execution_count": 35,
   "id": "65f91a62",
   "metadata": {},
   "outputs": [
    {
     "name": "stdout",
     "output_type": "stream",
     "text": [
      "0\n",
      "1\n",
      "4\n",
      "9\n",
      "16\n",
      "25\n",
      "36\n",
      "49\n",
      "64\n",
      "81\n"
     ]
    }
   ],
   "source": [
    "for x in square(10):\n",
    "\n",
    "    print(x)"
   ]
  },
  {
   "cell_type": "markdown",
   "id": "f33eae40",
   "metadata": {},
   "source": [
    "\n",
    "\n",
    "### Assignment 5: Chaining Generators\n",
    "\n",
    "Write two generator functions: `even_numbers` that yields even numbers up to a limit, and `squares` that yields the square of each number from another generator. Chain these generators to produce the squares of even numbers up to 20.\n"
   ]
  },
  {
   "cell_type": "code",
   "execution_count": 36,
   "id": "4f8281ae",
   "metadata": {},
   "outputs": [],
   "source": [
    "def even_numbers(n):\n",
    "\n",
    "    for i in range(n):\n",
    "\n",
    "        if i % 2 == 0:\n",
    "\n",
    "            yield i\n",
    "\n",
    "def squares(n):\n",
    "\n",
    "    for i in even_numbers(n):\n",
    "\n",
    "        yield i * i"
   ]
  },
  {
   "cell_type": "code",
   "execution_count": 37,
   "id": "ab6dcacb",
   "metadata": {},
   "outputs": [
    {
     "name": "stdout",
     "output_type": "stream",
     "text": [
      "0\n",
      "4\n",
      "16\n",
      "36\n",
      "64\n"
     ]
    }
   ],
   "source": [
    "for x in squares(10):\n",
    "\n",
    "    print(x)"
   ]
  },
  {
   "cell_type": "markdown",
   "id": "e86c3449",
   "metadata": {},
   "source": [
    "\n",
    "### Assignment 6: Simple Decorator\n",
    "\n",
    "Write a decorator named `time_it` that measures the execution time of a function. Apply this decorator to a function that calculates the factorial of a number.\n"
   ]
  },
  {
   "cell_type": "code",
   "execution_count": 4,
   "id": "7593e253",
   "metadata": {},
   "outputs": [],
   "source": [
    "def time_it(func):\n",
    "\n",
    "    import time\n",
    "\n",
    "    def wrapper(*args, **kwargs):\n",
    "\n",
    "        start_time = time.time()\n",
    "        result = func(*args, **kwargs)\n",
    "        end_time = time.time()\n",
    "\n",
    "        print(f\"Exectution time: {end_time - start_time} seconds\")\n",
    "        return result\n",
    "\n",
    "    return wrapper\n",
    "        "
   ]
  },
  {
   "cell_type": "code",
   "execution_count": 9,
   "id": "9bcbd3ff",
   "metadata": {},
   "outputs": [],
   "source": [
    "def _recursive_factorial(n):\n",
    "\n",
    "    if n == 0 or n == 1:\n",
    "\n",
    "        return 1\n",
    "\n",
    "    else:\n",
    "\n",
    "        return n * _recursive_factorial(n - 1)"
   ]
  },
  {
   "cell_type": "code",
   "execution_count": 10,
   "id": "5a62b23d",
   "metadata": {},
   "outputs": [],
   "source": [
    "@time_it\n",
    "def factorial(n):\n",
    "\n",
    "    return _recursive_factorial(n)"
   ]
  },
  {
   "cell_type": "code",
   "execution_count": 12,
   "id": "30d4e673",
   "metadata": {},
   "outputs": [
    {
     "name": "stdout",
     "output_type": "stream",
     "text": [
      "Exectution time: 0.0002834796905517578 seconds\n"
     ]
    },
    {
     "data": {
      "text/plain": [
       "1220136825991110068701238785423046926253574342803192842192413588385845373153881997605496447502203281863013616477148203584163378722078177200480785205159329285477907571939330603772960859086270429174547882424912726344305670173270769461062802310452644218878789465754777149863494367781037644274033827365397471386477878495438489595537537990423241061271326984327745715546309977202781014561081188373709531016356324432987029563896628911658974769572087926928871281780070265174507768410719624390394322536422605234945850129918571501248706961568141625359056693423813008856249246891564126775654481886506593847951775360894005745238940335798476363944905313062323749066445048824665075946735862074637925184200459369692981022263971952597190945217823331756934581508552332820762820023402626907898342451712006207714640979456116127629145951237229913340169552363850942885592018727433795173014586357570828355780158735432768888680120399882384702151467605445407663535984174430480128938313896881639487469658817504506926365338175055478128640000000000000000000000000000000000000000000000000000000000000000000000000000000000000000000000000000000000000000000000000000"
      ]
     },
     "execution_count": 12,
     "metadata": {},
     "output_type": "execute_result"
    }
   ],
   "source": [
    "factorial(500)"
   ]
  },
  {
   "cell_type": "markdown",
   "id": "c972272f",
   "metadata": {},
   "source": [
    "\n",
    "### Assignment 7: Decorator with Arguments\n",
    "\n",
    "Write a decorator named `repeat` that takes an argument `n` and repeats the execution of the decorated function `n` times. Apply this decorator to a function that prints a message.\n"
   ]
  },
  {
   "cell_type": "code",
   "execution_count": null,
   "id": "95fe91d7",
   "metadata": {},
   "outputs": [],
   "source": [
    "def repeat(n):\n",
    "\n",
    "    def decorator(func):\n",
    "\n",
    "        def wrapper(*args, **kwargs):\n",
    "\n",
    "            for _ in range(n):\n",
    "\n",
    "                func(*args, **kwargs)\n",
    "\n",
    "        return wrapper\n",
    "    \n",
    "    return decorator"
   ]
  },
  {
   "cell_type": "code",
   "execution_count": null,
   "id": "0f290ee2",
   "metadata": {},
   "outputs": [],
   "source": [
    "@repeat(3)\n",
    "def sicktir():\n",
    "\n",
    "    print(\"Sicktir git burdan\")"
   ]
  },
  {
   "cell_type": "code",
   "execution_count": 15,
   "id": "a1ead763",
   "metadata": {},
   "outputs": [
    {
     "name": "stdout",
     "output_type": "stream",
     "text": [
      "Sicktir git burdan!\n",
      "Sicktir git burdan!\n",
      "Sicktir git burdan!\n"
     ]
    }
   ],
   "source": [
    "sicktir()"
   ]
  },
  {
   "cell_type": "markdown",
   "id": "48156988",
   "metadata": {},
   "source": [
    "\n",
    "### Assignment 8: Nested Decorators\n",
    "\n",
    "Write two decorators: `uppercase` that converts the result of a function to uppercase, and `exclaim` that adds an exclamation mark to the result of a function. Apply both decorators to a function that returns a greeting message.\n"
   ]
  },
  {
   "cell_type": "code",
   "execution_count": 16,
   "id": "45ced999",
   "metadata": {},
   "outputs": [],
   "source": [
    "def uppercase(func):\n",
    "\n",
    "    def wrapper():\n",
    "\n",
    "        result = func()\n",
    "        return result.upper()\n",
    "    \n",
    "    return wrapper\n",
    "\n",
    "def exclaim(func):\n",
    "\n",
    "    def wrapper():\n",
    "\n",
    "        result = func()\n",
    "        return result + \"!!!\"\n",
    "    \n",
    "    return wrapper"
   ]
  },
  {
   "cell_type": "code",
   "execution_count": 23,
   "id": "9d519576",
   "metadata": {},
   "outputs": [],
   "source": [
    "@exclaim\n",
    "@uppercase\n",
    "def sicktir():\n",
    "\n",
    "    return \"Sicktir git burdan\""
   ]
  },
  {
   "cell_type": "code",
   "execution_count": 24,
   "id": "35ab9de0",
   "metadata": {},
   "outputs": [
    {
     "data": {
      "text/plain": [
       "'SICKTIR GIT BURDAN!!!'"
      ]
     },
     "execution_count": 24,
     "metadata": {},
     "output_type": "execute_result"
    }
   ],
   "source": [
    "sicktir()"
   ]
  },
  {
   "cell_type": "markdown",
   "id": "f8e25bc3",
   "metadata": {},
   "source": [
    "\n",
    "### Assignment 9: Class Decorator\n",
    "\n",
    "Create a class decorator named `singleton` that ensures a class has only one instance. Apply this decorator to a class named `DatabaseConnection` and test it.\n"
   ]
  },
  {
   "cell_type": "markdown",
   "id": "2861e0fb",
   "metadata": {},
   "source": [
    "\n",
    "### Assignment 10: Iterator Protocol with Decorators\n",
    "\n",
    "Create a custom iterator class named `ReverseString` that iterates over a string in reverse. Write a decorator named `uppercase` that converts the string to uppercase before reversing it. Apply the decorator to the `ReverseString` class.\n",
    "\n",
    "### Assignment 11: Stateful Generators\n",
    "\n",
    "Write a stateful generator function named `counter` that takes a start value and increments it by 1 each time it is called. Test the generator by iterating over it and printing the first 10 values.\n",
    "\n",
    "### Assignment 12: Generator with Exception Handling\n",
    "\n",
    "Write a generator function named `safe_divide` that takes a list of numbers and yields the division of each number by a given divisor. Implement exception handling within the generator to handle division by zero.\n",
    "\n",
    "### Assignment 13: Context Manager Decorator\n",
    "\n",
    "Write a decorator named `open_file` that manages the opening and closing of a file. Apply this decorator to a function that writes some text to a file.\n",
    "\n",
    "### Assignment 14: Infinite Iterator\n",
    "\n",
    "Create an infinite iterator class named `InfiniteCounter` that starts from a given number and increments by 1 indefinitely. Test the iterator by printing the first 10 values generated by it.\n",
    "\n",
    "### Assignment 15: Generator Pipeline\n",
    "\n",
    "Write three generator functions: `integers` that yields integers from 1 to 10, `doubles` that yields each integer doubled, and `negatives` that yields the negative of each doubled value. Chain these generators to create a pipeline that produces the negative doubled values of integers from 1 to 10."
   ]
  }
 ],
 "metadata": {
  "kernelspec": {
   "display_name": "pbd (3.11.0)",
   "language": "python",
   "name": "python3"
  },
  "language_info": {
   "codemirror_mode": {
    "name": "ipython",
    "version": 3
   },
   "file_extension": ".py",
   "mimetype": "text/x-python",
   "name": "python",
   "nbconvert_exporter": "python",
   "pygments_lexer": "ipython3",
   "version": "3.11.0"
  }
 },
 "nbformat": 4,
 "nbformat_minor": 5
}
