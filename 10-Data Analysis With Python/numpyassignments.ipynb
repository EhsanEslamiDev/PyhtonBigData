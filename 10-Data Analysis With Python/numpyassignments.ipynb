{
 "cells": [
  {
   "cell_type": "markdown",
   "metadata": {},
   "source": [
    "# Module: NumPy Assignments\n",
    "## Lesson: NumPy\n"
   ]
  },
  {
   "cell_type": "markdown",
   "id": "66492a75",
   "metadata": {},
   "source": [
    "### Assignment 1: Array Creation and Manipulation\n",
    "\n",
    "1. Create a NumPy array of shape (5, 5) filled with random integers between 1 and 20. Replace all the elements in the third column with 1.\n",
    "2. Create a NumPy array of shape (4, 4) with values from 1 to 16. Replace the diagonal elements with 0.\n"
   ]
  },
  {
   "cell_type": "code",
   "execution_count": 1,
   "id": "7e8b1b1d",
   "metadata": {},
   "outputs": [],
   "source": [
    "import numpy as np"
   ]
  },
  {
   "cell_type": "code",
   "execution_count": 7,
   "id": "9dc1d860",
   "metadata": {},
   "outputs": [
    {
     "data": {
      "text/plain": [
       "array([[ 9, 12,  1, 11, 15],\n",
       "       [ 5,  5,  1,  9, 13],\n",
       "       [11,  3,  1, 10,  5],\n",
       "       [ 8, 18,  1,  9, 11],\n",
       "       [14, 15,  1,  6, 10]])"
      ]
     },
     "execution_count": 7,
     "metadata": {},
     "output_type": "execute_result"
    }
   ],
   "source": [
    "m = np.random.randint(1, 20, (5,5))\n",
    "m[:, 2] = 1\n",
    "\n",
    "m"
   ]
  },
  {
   "cell_type": "code",
   "execution_count": 32,
   "id": "866b12b6",
   "metadata": {},
   "outputs": [
    {
     "data": {
      "text/plain": [
       "array([[ 0,  2,  3,  4],\n",
       "       [ 5,  0,  7,  8],\n",
       "       [ 9, 10,  0, 12],\n",
       "       [13, 14, 15,  0]])"
      ]
     },
     "execution_count": 32,
     "metadata": {},
     "output_type": "execute_result"
    }
   ],
   "source": [
    "r  = np.array(range(1, 17))\n",
    "mask = [i == j for i in range(4) for j in range(4)]\n",
    "r[mask] = 0\n",
    "r.reshape(4, 4)"
   ]
  },
  {
   "cell_type": "markdown",
   "id": "0251916f",
   "metadata": {},
   "source": [
    "\n",
    "### Assignment 2: Array Indexing and Slicing\n",
    "\n",
    "1. Create a NumPy array of shape (6, 6) with values from 1 to 36. Extract the sub-array consisting of the 3rd to 5th rows and 2nd to 4th columns.\n",
    "2. Create a NumPy array of shape (5, 5) with random integers. Extract the elements on the border.\n"
   ]
  },
  {
   "cell_type": "code",
   "execution_count": 35,
   "id": "79389682",
   "metadata": {},
   "outputs": [
    {
     "data": {
      "text/plain": [
       "array([[14, 15, 16, 17],\n",
       "       [20, 21, 22, 23],\n",
       "       [26, 27, 28, 29],\n",
       "       [32, 33, 34, 35]])"
      ]
     },
     "execution_count": 35,
     "metadata": {},
     "output_type": "execute_result"
    }
   ],
   "source": [
    "r = np.arange(1, 37).reshape(6, 6)\n",
    "r[2:6, 1:5]"
   ]
  },
  {
   "cell_type": "code",
   "execution_count": 56,
   "id": "09463dc7",
   "metadata": {},
   "outputs": [
    {
     "name": "stdout",
     "output_type": "stream",
     "text": [
      "[[25 41 41  8 61]\n",
      " [61  4 49 65 20]\n",
      " [17 24  2 33 29]\n",
      " [58 72 21 25 68]\n",
      " [65 83 92 42 46]]\n",
      "[25 41 41  8 61 61 20 17 29 58 68 65 83 92 42 46]\n"
     ]
    }
   ],
   "source": [
    "r = np.random.randint(1, 100, 25)\n",
    "mask = np.array([i == 0 or j == 0 or i == 4 or j == 4 for i in range(5) for j in range(5)])\n",
    "\n",
    "print(r.reshape(5, 5))\n",
    "print(r[mask])"
   ]
  },
  {
   "cell_type": "markdown",
   "id": "c9550395",
   "metadata": {},
   "source": [
    "\n",
    "### Assignment 3: Array Operations\n",
    "\n",
    "1. Create two NumPy arrays of shape (3, 4) filled with random integers. Perform element-wise addition, subtraction, multiplication, and division.\n",
    "2. Create a NumPy array of shape (4, 4) with values from 1 to 16. Compute the row-wise and column-wise sum.\n"
   ]
  },
  {
   "cell_type": "markdown",
   "id": "67af2461",
   "metadata": {},
   "source": [
    "\n",
    "### Assignment 4: Statistical Operations\n",
    "\n",
    "1. Create a NumPy array of shape (5, 5) filled with random integers. Compute the mean, median, standard deviation, and variance of the array.\n",
    "2. Create a NumPy array of shape (3, 3) with values from 1 to 9. Normalize the array (i.e., scale the values to have a mean of 0 and a standard deviation of 1).\n"
   ]
  },
  {
   "cell_type": "code",
   "execution_count": 62,
   "id": "881754f0",
   "metadata": {},
   "outputs": [
    {
     "data": {
      "text/plain": [
       "array([[ 0.83305729,  1.20830833,  0.08255523, -1.41844891,  0.27018074],\n",
       "       [ 0.27018074, -0.66794684,  1.20830833,  0.64543178,  1.77118488],\n",
       "       [-1.60607442,  0.45780626, -0.48032132, -0.66794684, -1.41844891],\n",
       "       [-0.66794684, -1.23082339,  0.45780626,  0.08255523,  1.58355936],\n",
       "       [-0.66794684, -1.23082339,  1.39593384,  0.64543178, -0.85557236]])"
      ]
     },
     "execution_count": 62,
     "metadata": {},
     "output_type": "execute_result"
    }
   ],
   "source": [
    "r = np.random.randint(1, 20, (5,5))\n",
    "normalized_r = (r - r.mean()) / r.std()\n",
    "normalized_r"
   ]
  },
  {
   "cell_type": "markdown",
   "id": "2aafa740",
   "metadata": {},
   "source": [
    "\n",
    "### Assignment 5: Broadcasting\n",
    "\n",
    "1. Create a NumPy array of shape (3, 3) filled with random integers. Add a 1D array of shape (3,) to each row of the 2D array using broadcasting.\n",
    "2. Create a NumPy array of shape (4, 4) filled with random integers. Subtract a 1D array of shape (4,) from each column of the 2D array using broadcasting.\n"
   ]
  },
  {
   "cell_type": "code",
   "execution_count": 68,
   "id": "f4cdbd33",
   "metadata": {},
   "outputs": [
    {
     "name": "stdout",
     "output_type": "stream",
     "text": [
      "shape of m: (3, 3),  \n",
      "shape of n: (3,)\n",
      " original m: \n",
      "[[ 9  6  4]\n",
      " [ 2  4  9]\n",
      " [12  2  5]] \n",
      "\n",
      " original n: \n",
      "[1 1 1] \n",
      "\n",
      " m + n: \n",
      "[[10  7  5]\n",
      " [ 3  5 10]\n",
      " [13  3  6]] \n",
      "\n"
     ]
    }
   ],
   "source": [
    "m = np.random.randint(1, 20, (3, 3))\n",
    "n = np.array([1 , 1 , 1])\n",
    "\n",
    "print(f\"shape of m: {m.shape},  \\nshape of n: {n.shape}\")\n",
    "\n",
    "print(f\" original m: \\n{m} \\n\")\n",
    "print(f\" original n: \\n{n} \\n\")\n",
    "print(f\" m + n: \\n{m + n} \\n\")"
   ]
  },
  {
   "cell_type": "markdown",
   "id": "a1249f0d",
   "metadata": {},
   "source": [
    "\n",
    "### Assignment 6: Linear Algebra\n",
    "\n",
    "1. Create a NumPy array of shape (3, 3) representing a matrix. Compute its determinant, inverse, and eigenvalues.\n",
    "2. Create two NumPy arrays of shape (2, 3) and (3, 2). Perform matrix multiplication on these arrays.\n"
   ]
  },
  {
   "cell_type": "code",
   "execution_count": 71,
   "id": "2ac3524a",
   "metadata": {},
   "outputs": [
    {
     "name": "stdout",
     "output_type": "stream",
     "text": [
      "determinant of m : 0.10364020295687176 \n",
      "inverse of m : [[ 0.04502325  2.87888511 -1.68880708]\n",
      " [-0.07946367 -0.3548636   1.63173273]\n",
      " [ 2.28282554 -4.83818177  2.75838387]]\n",
      " eigen values of m : EigResult(eigenvalues=array([1.0011624 +0.j        , 0.07503662+0.31287278j,\n",
      "       0.07503662-0.31287278j]), eigenvectors=array([[ 0.72762678+0.j        ,  0.41678846+0.21753397j,\n",
      "         0.41678846-0.21753397j],\n",
      "       [ 0.51011455+0.j        , -0.13224431-0.38618862j,\n",
      "        -0.13224431+0.38618862j],\n",
      "       [ 0.45863103+0.j        , -0.78251911+0.j        ,\n",
      "        -0.78251911-0.j        ]]))\n"
     ]
    }
   ],
   "source": [
    "m = np.random.random((3 ,3))\n",
    "print(f\"determinant of m : {np.linalg.det(m)} \\ninverse of m : {np.linalg.inv(m)}\\n eigen values of m : {np.linalg.eig(m)}\")"
   ]
  },
  {
   "cell_type": "code",
   "execution_count": 75,
   "id": "2bf6a9e4",
   "metadata": {},
   "outputs": [
    {
     "data": {
      "text/plain": [
       "array([[0.35424694, 0.9072093 ],\n",
       "       [0.30053893, 0.96317283]])"
      ]
     },
     "execution_count": 75,
     "metadata": {},
     "output_type": "execute_result"
    }
   ],
   "source": [
    "m1 = np.random.random((2 , 3))\n",
    "m2 = np.random.random((3 , 2))\n",
    "\n",
    "m1 @ m2"
   ]
  },
  {
   "cell_type": "markdown",
   "id": "bbb74486",
   "metadata": {},
   "source": [
    "\n",
    "### Assignment 7: Advanced Array Manipulation\n",
    "\n",
    "1. Create a NumPy array of shape (3, 3) with values from 1 to 9. Reshape the array to shape (1, 9) and then to shape (9, 1).\n",
    "2. Create a NumPy array of shape (5, 5) filled with random integers. Flatten the array and then reshape it back to (5, 5).\n"
   ]
  },
  {
   "cell_type": "code",
   "execution_count": 78,
   "id": "9dd0201a",
   "metadata": {},
   "outputs": [
    {
     "data": {
      "text/plain": [
       "array([[3, 6, 2, 8, 1, 1, 5, 4, 2, 2, 5, 1, 7, 3, 6, 4, 4, 4, 2, 9, 4, 2,\n",
       "        8, 8, 5]])"
      ]
     },
     "execution_count": 78,
     "metadata": {},
     "output_type": "execute_result"
    }
   ],
   "source": [
    "n = np.random.randint(1, 10, (5, 5))\n",
    "n.flatten()\n",
    "n.reshape(1 , 25)"
   ]
  },
  {
   "cell_type": "markdown",
   "id": "ddeb660a",
   "metadata": {},
   "source": [
    "\n",
    "### Assignment 8: Fancy Indexing and Boolean Indexing\n",
    "\n",
    "1. Create a NumPy array of shape (5, 5) filled with random integers. Use fancy indexing to extract the elements at the corners of the array.\n",
    "2. Create a NumPy array of shape (4, 4) filled with random integers. Use boolean indexing to set all elements greater than 10 to 10.\n"
   ]
  },
  {
   "cell_type": "code",
   "execution_count": 82,
   "id": "f4dfe2b6",
   "metadata": {},
   "outputs": [
    {
     "name": "stdout",
     "output_type": "stream",
     "text": [
      "original m: \n",
      "[[ 8  9 14 18  9]\n",
      " [ 8 12  1  4 14]\n",
      " [ 7  7 16  3 18]\n",
      " [13 15  6  1  4]\n",
      " [12  5 13 12 13]] \n",
      "ekement on the border: \n",
      "[ 8  9 12 13]\n"
     ]
    }
   ],
   "source": [
    "m = np.random.randint(1, 20 , 25)\n",
    "masking = [(i == 0 or i == 4) and (j == 0 or j == 4) for i in range(5) for j in range(5)]\n",
    "\n",
    "print(f\"original m: \\n{m.reshape(5, 5)} \\nekement on the border: \\n{m[masking]}\")\n"
   ]
  },
  {
   "cell_type": "code",
   "execution_count": 84,
   "id": "55f4b690",
   "metadata": {},
   "outputs": [
    {
     "name": "stdout",
     "output_type": "stream",
     "text": [
      "original m: \n",
      "[[ 1  6  1 15]\n",
      " [10 15 17  9]\n",
      " [19 15  8 14]\n",
      " [11 14  7 13]]\n",
      "modified m: \n",
      "[[ 1  6  1 10]\n",
      " [10 10 10  9]\n",
      " [10 10  8 10]\n",
      " [10 10  7 10]]\n"
     ]
    }
   ],
   "source": [
    "m = np.random.randint(1, 20, 16)\n",
    "\n",
    "print(f\"original m: \\n{m.reshape(4, 4)}\")\n",
    "\n",
    "m[m > 10] = 10\n",
    "\n",
    "print(f\"modified m: \\n{m.reshape(4, 4)}\")\n"
   ]
  },
  {
   "cell_type": "markdown",
   "id": "0571b1bc",
   "metadata": {},
   "source": [
    "\n",
    "### Assignment 9: Structured Arrays\n",
    "\n",
    "1. Create a structured array with fields 'name' (string), 'age' (integer), and 'weight' (float). Add some data and sort the array by age.\n",
    "2. Create a structured array with fields 'x' and 'y' (both integers). Add some data and compute the Euclidean distance between each pair of points.\n"
   ]
  },
  {
   "cell_type": "code",
   "execution_count": 85,
   "id": "a7c25e24",
   "metadata": {},
   "outputs": [
    {
     "name": "stdout",
     "output_type": "stream",
     "text": [
      "Sorted by age:\n",
      " [('Charlie', 22, 68. ) ('Alice', 25, 55. ) ('David', 28, 80.2)\n",
      " ('Bob', 30, 75.5)]\n"
     ]
    }
   ],
   "source": [
    "# 1. Structured array with fields 'name', 'age', 'weight', add data and sort by age\n",
    "data = np.array([\n",
    "    ('Alice', 25, 55.0),\n",
    "    ('Bob', 30, 75.5),\n",
    "    ('Charlie', 22, 68.0),\n",
    "    ('David', 28, 80.2)\n",
    "], dtype=[('name', 'U10'), ('age', 'i4'), ('weight', 'f4')])\n",
    "\n",
    "sorted_data = np.sort(data, order='age')\n",
    "print(\"Sorted by age:\\n\", sorted_data)\n"
   ]
  },
  {
   "cell_type": "code",
   "execution_count": 86,
   "id": "03546806",
   "metadata": {},
   "outputs": [
    {
     "data": {
      "text/plain": [
       "array([(1, 2), (4, 6), (7, 8)], dtype=[('x', '<i4'), ('y', '<i4')])"
      ]
     },
     "execution_count": 86,
     "metadata": {},
     "output_type": "execute_result"
    }
   ],
   "source": [
    "# 2. Structured array with fields 'x', 'y', compute Euclidean distance between each pair\n",
    "points = np.array([\n",
    "    (1, 2),\n",
    "    (4, 6),\n",
    "    (7, 8)\n",
    "], dtype=[('x', 'i4'), ('y', 'i4')])\n",
    "points"
   ]
  },
  {
   "cell_type": "code",
   "execution_count": 90,
   "id": "18097705",
   "metadata": {},
   "outputs": [
    {
     "data": {
      "text/plain": [
       "array([[1, 2],\n",
       "       [4, 6],\n",
       "       [7, 8]], dtype=int32)"
      ]
     },
     "execution_count": 90,
     "metadata": {},
     "output_type": "execute_result"
    }
   ],
   "source": [
    "coords = np.vstack((points['x'], points['y'])).T\n",
    "coords"
   ]
  },
  {
   "cell_type": "code",
   "execution_count": 96,
   "id": "d24f5449",
   "metadata": {},
   "outputs": [
    {
     "name": "stdout",
     "output_type": "stream",
     "text": [
      "[[[1 2]]\n",
      "\n",
      " [[4 6]]\n",
      "\n",
      " [[7 8]]]\n",
      " shpae: (3, 1, 2)\n",
      "[[[1 2]\n",
      "  [4 6]\n",
      "  [7 8]]]\n",
      " shpae: (1, 3, 2)\n",
      "[[[ 0  0]\n",
      "  [-3 -4]\n",
      "  [-6 -6]]\n",
      "\n",
      " [[ 3  4]\n",
      "  [ 0  0]\n",
      "  [-3 -2]]\n",
      "\n",
      " [[ 6  6]\n",
      "  [ 3  2]\n",
      "  [ 0  0]]]\n",
      " shpae: (3, 3, 2)\n"
     ]
    }
   ],
   "source": [
    "diff = coords[:, np.newaxis, :] - coords[np.newaxis, :, :]\n",
    "print(f\"{coords[:, np.newaxis, :]}\\n shpae: {coords[:, np.newaxis, :].shape}\")\n",
    "print(f\"{coords[np.newaxis, :, :]}\\n shpae: {coords[np.newaxis, :, :].shape}\")\n",
    "print(f\"{diff}\\n shpae: {diff.shape}\")"
   ]
  },
  {
   "cell_type": "code",
   "execution_count": null,
   "id": "10d449cb",
   "metadata": {},
   "outputs": [
    {
     "name": "stdout",
     "output_type": "stream",
     "text": [
      "Euclidean distances:\n",
      " [[  0  -7 -12]\n",
      " [  7   0  -5]\n",
      " [ 12   5   0]]\n"
     ]
    }
   ],
   "source": [
    "distances = np.sqrt(np.sum(diff**2, axis=0))\n",
    "#distances = np.sum(diff, axis=2)\n",
    "print(\"Euclidean distances:\\n\", distances)\n"
   ]
  },
  {
   "cell_type": "markdown",
   "id": "5b8b1a58",
   "metadata": {},
   "source": [
    "\n",
    "### Assignment 10: Masked Arrays\n",
    "\n",
    "1. Create a masked array of shape (4, 4) with random integers and mask the elements greater than 10. Compute the sum of the unmasked elements.\n",
    "2. Create a masked array of shape (3, 3) with random integers and mask the diagonal elements. Replace the masked elements with the mean of the unmasked elements."
   ]
  }
 ],
 "metadata": {
  "kernelspec": {
   "display_name": "pbd (3.11.0)",
   "language": "python",
   "name": "python3"
  },
  "language_info": {
   "codemirror_mode": {
    "name": "ipython",
    "version": 3
   },
   "file_extension": ".py",
   "mimetype": "text/x-python",
   "name": "python",
   "nbconvert_exporter": "python",
   "pygments_lexer": "ipython3",
   "version": "3.11.0"
  }
 },
 "nbformat": 4,
 "nbformat_minor": 5
}
